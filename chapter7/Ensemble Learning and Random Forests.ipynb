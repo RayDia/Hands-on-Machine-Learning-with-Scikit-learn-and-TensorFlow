{
 "cells": [
  {
   "cell_type": "markdown",
   "metadata": {},
   "source": [
    "# Ensemble Learning and Random Forests"
   ]
  },
  {
   "cell_type": "code",
   "execution_count": 1,
   "metadata": {
    "collapsed": true
   },
   "outputs": [],
   "source": [
    "# To support both python 2 and python 3\n",
    "from __future__ import division, print_function, unicode_literals\n",
    "\n",
    "# Common imports\n",
    "import numpy as np\n",
    "import os\n",
    "\n",
    "# to make this notebook's output stable across runs\n",
    "np.random.seed(42)\n",
    "\n",
    "# To plot pretty figures\n",
    "%matplotlib inline\n",
    "import matplotlib\n",
    "import matplotlib.pyplot as plt\n",
    "plt.rcParams['axes.labelsize'] = 14\n",
    "plt.rcParams['xtick.labelsize'] = 12\n",
    "plt.rcParams['ytick.labelsize'] = 12\n",
    "\n",
    "# Where to save the figures\n",
    "PROJECT_ROOT_DIR = \".\"\n",
    "CHAPTER_ID = \"ensembles\"\n",
    "\n",
    "def image_path(fig_id):\n",
    "    return os.path.join(PROJECT_ROOT_DIR, \"images\", CHAPTER_ID, fig_id)\n",
    "\n",
    "def save_fig(fig_id, tight_layout=True):\n",
    "    print(\"Saving figure\", fig_id)\n",
    "    if tight_layout:\n",
    "        plt.tight_layout()\n",
    "    plt.savefig(image_path(fig_id) + \".png\", format='png', dpi=300)"
   ]
  },
  {
   "cell_type": "markdown",
   "metadata": {},
   "source": [
    "## Voting Classifiers"
   ]
  },
  {
   "cell_type": "code",
   "execution_count": 2,
   "metadata": {},
   "outputs": [
    {
     "data": {
      "text/plain": [
       "VotingClassifier(estimators=[('lr', LogisticRegression(C=1.0, class_weight=None, dual=False, fit_intercept=True,\n",
       "          intercept_scaling=1, max_iter=100, multi_class='ovr', n_jobs=1,\n",
       "          penalty='l2', random_state=42, solver='liblinear', tol=0.0001,\n",
       "          verbose=0, warm_start=False)), ('rf', RandomFor...f',\n",
       "  max_iter=-1, probability=False, random_state=42, shrinking=True,\n",
       "  tol=0.001, verbose=False))],\n",
       "         flatten_transform=None, n_jobs=1, voting='hard', weights=None)"
      ]
     },
     "execution_count": 2,
     "metadata": {},
     "output_type": "execute_result"
    }
   ],
   "source": [
    "from sklearn.model_selection import train_test_split\n",
    "from sklearn.datasets import make_moons\n",
    "\n",
    "X, y = make_moons(n_samples=500, noise=0.30, random_state=42)\n",
    "X_train, X_test, y_train, y_test = train_test_split(X, y, random_state=42)\n",
    "\n",
    "from sklearn.svm import SVC\n",
    "from sklearn.ensemble import RandomForestClassifier\n",
    "from sklearn.ensemble import VotingClassifier\n",
    "from sklearn.linear_model import LogisticRegression\n",
    "\n",
    "log_clf = LogisticRegression(random_state = 42)\n",
    "rnd_clf = RandomForestClassifier(random_state = 42)\n",
    "svm_clf = SVC(random_state = 42)\n",
    "vot_clf = VotingClassifier(\n",
    "    estimators = [\n",
    "        ('lr', log_clf),\n",
    "        ('rf', rnd_clf),\n",
    "        ('svc', svm_clf)\n",
    "    ],\n",
    "    voting = 'hard'\n",
    ")\n",
    "vot_clf.fit(X_train, y_train)\n"
   ]
  },
  {
   "cell_type": "code",
   "execution_count": 3,
   "metadata": {},
   "outputs": [
    {
     "name": "stdout",
     "output_type": "stream",
     "text": [
      "LogisticRegression 0.864\n",
      "RandomForestClassifier 0.872\n",
      "SVC 0.888\n",
      "VotingClassifier 0.896\n"
     ]
    },
    {
     "name": "stderr",
     "output_type": "stream",
     "text": [
      "/home/bladeray/anaconda3/envs/tf/lib/python3.6/site-packages/sklearn/preprocessing/label.py:151: DeprecationWarning: The truth value of an empty array is ambiguous. Returning False, but in future this will result in an error. Use `array.size > 0` to check that an array is not empty.\n",
      "  if diff:\n"
     ]
    }
   ],
   "source": [
    "from sklearn.metrics import accuracy_score\n",
    "\n",
    "for clf in (log_clf, rnd_clf, svm_clf, vot_clf):\n",
    "    clf.fit(X_train, y_train)\n",
    "    y_pred = clf.predict(X_test)\n",
    "    print(clf.__class__.__name__, accuracy_score(y_test, y_pred))"
   ]
  },
  {
   "cell_type": "markdown",
   "metadata": {},
   "source": [
    "## Bagging and Pasting\n",
    "如果抽样时有放回，称为Bagging；当抽样没有放回，称为Pasting"
   ]
  },
  {
   "cell_type": "markdown",
   "metadata": {},
   "source": [
    "## Bagging and Pasting in Scikit-Learn\n"
   ]
  },
  {
   "cell_type": "code",
   "execution_count": 4,
   "metadata": {},
   "outputs": [
    {
     "data": {
      "text/plain": [
       "0.912"
      ]
     },
     "execution_count": 4,
     "metadata": {},
     "output_type": "execute_result"
    }
   ],
   "source": [
    "from sklearn.ensemble import BaggingClassifier\n",
    "from sklearn.tree import DecisionTreeClassifier\n",
    "bag_clf = BaggingClassifier(\n",
    "    DecisionTreeClassifier(),\n",
    "    n_estimators = 500,\n",
    "    #max_samples = 100, \n",
    "    bootstrap = True, \n",
    "    n_jobs = -1 # 并行数int：个数 -1：跟CPU核数一致  1:默认值\n",
    ")\n",
    "bag_clf.fit(X_train, y_train)\n",
    "y_pred_bag = bag_clf.predict(X_test)\n",
    "accuracy_score(y_test, y_pred_bag)"
   ]
  },
  {
   "cell_type": "markdown",
   "metadata": {
    "collapsed": true
   },
   "source": [
    "## Out-of-Bag Evaluation\n",
    "The remaining 37% of the training instances that are not sampled are called out-of-bag (oob) instances. \n",
    "it can be evaluated on these instances, without the need for a separate validation set or cross-validation. "
   ]
  },
  {
   "cell_type": "code",
   "execution_count": 5,
   "metadata": {},
   "outputs": [
    {
     "name": "stdout",
     "output_type": "stream",
     "text": [
      "oob0.896\n"
     ]
    },
    {
     "data": {
      "text/plain": [
       "0.912"
      ]
     },
     "execution_count": 5,
     "metadata": {},
     "output_type": "execute_result"
    }
   ],
   "source": [
    "out_bag_clf = BaggingClassifier(\n",
    "    DecisionTreeClassifier(),\n",
    "    n_estimators = 600,\n",
    "    #max_samples = 100, \n",
    "    bootstrap = True, \n",
    "    oob_score = True,\n",
    "    n_jobs = -1\n",
    ")\n",
    "out_bag_clf.fit(X_train, y_train)\n",
    "print(\"oob\" + str(out_bag_clf.oob_score_))\n",
    "y_pred_out_bag = out_bag_clf.predict(X_test)\n",
    "accuracy_score(y_test, y_pred_out_bag)"
   ]
  },
  {
   "cell_type": "code",
   "execution_count": 6,
   "metadata": {},
   "outputs": [
    {
     "data": {
      "text/plain": [
       "array([[0.45535714, 0.54464286],\n",
       "       [0.41148325, 0.58851675],\n",
       "       [1.        , 0.        ],\n",
       "       [0.        , 1.        ],\n",
       "       [0.        , 1.        ],\n",
       "       [0.06278027, 0.93721973],\n",
       "       [0.37560976, 0.62439024],\n",
       "       [0.00833333, 0.99166667],\n",
       "       [0.99509804, 0.00490196],\n",
       "       [0.97747748, 0.02252252],\n",
       "       [0.75819672, 0.24180328],\n",
       "       [0.0047619 , 0.9952381 ],\n",
       "       [0.74660633, 0.25339367],\n",
       "       [0.80094787, 0.19905213],\n",
       "       [0.96744186, 0.03255814],\n",
       "       [0.05454545, 0.94545455],\n",
       "       [0.00431034, 0.99568966],\n",
       "       [0.97807018, 0.02192982],\n",
       "       [0.8940678 , 0.1059322 ],\n",
       "       [1.        , 0.        ],\n",
       "       [0.01869159, 0.98130841],\n",
       "       [0.3254717 , 0.6745283 ],\n",
       "       [0.92165899, 0.07834101],\n",
       "       [1.        , 0.        ],\n",
       "       [0.97095436, 0.02904564],\n",
       "       [0.        , 1.        ],\n",
       "       [1.        , 0.        ],\n",
       "       [1.        , 0.        ],\n",
       "       [0.00423729, 0.99576271],\n",
       "       [0.65517241, 0.34482759],\n",
       "       [0.        , 1.        ],\n",
       "       [1.        , 0.        ],\n",
       "       [0.00442478, 0.99557522],\n",
       "       [0.        , 1.        ],\n",
       "       [0.14155251, 0.85844749],\n",
       "       [1.        , 0.        ],\n",
       "       [0.        , 1.        ],\n",
       "       [0.34246575, 0.65753425],\n",
       "       [0.        , 1.        ],\n",
       "       [1.        , 0.        ],\n",
       "       [0.26600985, 0.73399015],\n",
       "       [0.39252336, 0.60747664],\n",
       "       [1.        , 0.        ],\n",
       "       [1.        , 0.        ],\n",
       "       [0.        , 1.        ],\n",
       "       [1.        , 0.        ],\n",
       "       [1.        , 0.        ],\n",
       "       [0.02620087, 0.97379913],\n",
       "       [1.        , 0.        ],\n",
       "       [0.00952381, 0.99047619],\n",
       "       [0.99111111, 0.00888889],\n",
       "       [0.90384615, 0.09615385],\n",
       "       [0.9804878 , 0.0195122 ],\n",
       "       [0.97737557, 0.02262443],\n",
       "       [0.        , 1.        ],\n",
       "       [0.0625    , 0.9375    ],\n",
       "       [0.99148936, 0.00851064],\n",
       "       [0.        , 1.        ],\n",
       "       [0.        , 1.        ],\n",
       "       [0.00930233, 0.99069767],\n",
       "       [0.99561404, 0.00438596],\n",
       "       [0.84716157, 0.15283843],\n",
       "       [0.38655462, 0.61344538],\n",
       "       [1.        , 0.        ],\n",
       "       [0.        , 1.        ],\n",
       "       [0.72985782, 0.27014218],\n",
       "       [1.        , 0.        ],\n",
       "       [1.        , 0.        ],\n",
       "       [0.80188679, 0.19811321],\n",
       "       [1.        , 0.        ],\n",
       "       [0.61261261, 0.38738739],\n",
       "       [0.11940299, 0.88059701],\n",
       "       [0.68468468, 0.31531532],\n",
       "       [0.91402715, 0.08597285],\n",
       "       [0.        , 1.        ],\n",
       "       [0.25821596, 0.74178404],\n",
       "       [0.85777778, 0.14222222],\n",
       "       [1.        , 0.        ],\n",
       "       [0.        , 1.        ],\n",
       "       [1.        , 0.        ],\n",
       "       [0.00431034, 0.99568966],\n",
       "       [0.07      , 0.93      ],\n",
       "       [0.02202643, 0.97797357],\n",
       "       [0.30046948, 0.69953052],\n",
       "       [1.        , 0.        ],\n",
       "       [0.        , 1.        ],\n",
       "       [0.84140969, 0.15859031],\n",
       "       [0.        , 1.        ],\n",
       "       [0.        , 1.        ],\n",
       "       [0.        , 1.        ],\n",
       "       [0.26106195, 0.73893805],\n",
       "       [1.        , 0.        ],\n",
       "       [0.        , 1.        ],\n",
       "       [0.        , 1.        ],\n",
       "       [0.        , 1.        ],\n",
       "       [0.94554455, 0.05445545],\n",
       "       [0.80487805, 0.19512195],\n",
       "       [0.0052356 , 0.9947644 ],\n",
       "       [1.        , 0.        ],\n",
       "       [0.18894009, 0.81105991],\n",
       "       [0.65765766, 0.34234234],\n",
       "       [0.        , 1.        ],\n",
       "       [0.04926108, 0.95073892],\n",
       "       [0.52803738, 0.47196262],\n",
       "       [1.        , 0.        ],\n",
       "       [0.02304147, 0.97695853],\n",
       "       [1.        , 0.        ],\n",
       "       [0.28767123, 0.71232877],\n",
       "       [0.4978355 , 0.5021645 ],\n",
       "       [1.        , 0.        ],\n",
       "       [0.02347418, 0.97652582],\n",
       "       [0.99090909, 0.00909091],\n",
       "       [0.26794258, 0.73205742],\n",
       "       [0.90434783, 0.09565217],\n",
       "       [1.        , 0.        ],\n",
       "       [1.        , 0.        ],\n",
       "       [0.        , 1.        ],\n",
       "       [0.        , 1.        ],\n",
       "       [0.84834123, 0.15165877],\n",
       "       [1.        , 0.        ],\n",
       "       [0.0173913 , 0.9826087 ],\n",
       "       [1.        , 0.        ],\n",
       "       [1.        , 0.        ],\n",
       "       [1.        , 0.        ],\n",
       "       [0.98268398, 0.01731602],\n",
       "       [0.9953271 , 0.0046729 ],\n",
       "       [0.00471698, 0.99528302],\n",
       "       [0.93023256, 0.06976744],\n",
       "       [0.99502488, 0.00497512],\n",
       "       [0.02347418, 0.97652582],\n",
       "       [0.21834061, 0.78165939],\n",
       "       [0.95652174, 0.04347826],\n",
       "       [0.3173913 , 0.6826087 ],\n",
       "       [0.99090909, 0.00909091],\n",
       "       [0.        , 1.        ],\n",
       "       [0.        , 1.        ],\n",
       "       [0.66666667, 0.33333333],\n",
       "       [0.36178862, 0.63821138],\n",
       "       [0.33333333, 0.66666667],\n",
       "       [0.88986784, 0.11013216],\n",
       "       [0.93421053, 0.06578947],\n",
       "       [0.07327586, 0.92672414],\n",
       "       [0.78440367, 0.21559633],\n",
       "       [0.        , 1.        ],\n",
       "       [0.        , 1.        ],\n",
       "       [0.02083333, 0.97916667],\n",
       "       [0.98630137, 0.01369863],\n",
       "       [0.99502488, 0.00497512],\n",
       "       [1.        , 0.        ],\n",
       "       [0.004329  , 0.995671  ],\n",
       "       [0.        , 1.        ],\n",
       "       [0.00873362, 0.99126638],\n",
       "       [0.00469484, 0.99530516],\n",
       "       [1.        , 0.        ],\n",
       "       [1.        , 0.        ],\n",
       "       [0.9375    , 0.0625    ],\n",
       "       [1.        , 0.        ],\n",
       "       [1.        , 0.        ],\n",
       "       [1.        , 0.        ],\n",
       "       [0.        , 1.        ],\n",
       "       [0.4       , 0.6       ],\n",
       "       [0.27826087, 0.72173913],\n",
       "       [0.00896861, 0.99103139],\n",
       "       [0.        , 1.        ],\n",
       "       [0.33333333, 0.66666667],\n",
       "       [1.        , 0.        ],\n",
       "       [0.99516908, 0.00483092],\n",
       "       [0.        , 1.        ],\n",
       "       [1.        , 0.        ],\n",
       "       [0.0045045 , 0.9954955 ],\n",
       "       [0.        , 1.        ],\n",
       "       [0.99173554, 0.00826446],\n",
       "       [0.        , 1.        ],\n",
       "       [0.        , 1.        ],\n",
       "       [1.        , 0.        ],\n",
       "       [0.00823045, 0.99176955],\n",
       "       [0.64840183, 0.35159817],\n",
       "       [0.90178571, 0.09821429],\n",
       "       [0.0046729 , 0.9953271 ],\n",
       "       [0.99056604, 0.00943396],\n",
       "       [1.        , 0.        ],\n",
       "       [1.        , 0.        ],\n",
       "       [0.        , 1.        ],\n",
       "       [0.        , 1.        ],\n",
       "       [1.        , 0.        ],\n",
       "       [0.08653846, 0.91346154],\n",
       "       [1.        , 0.        ],\n",
       "       [0.02      , 0.98      ],\n",
       "       [0.        , 1.        ],\n",
       "       [1.        , 0.        ],\n",
       "       [0.        , 1.        ],\n",
       "       [0.04166667, 0.95833333],\n",
       "       [0.99565217, 0.00434783],\n",
       "       [0.9255814 , 0.0744186 ],\n",
       "       [0.69957082, 0.30042918],\n",
       "       [0.56621005, 0.43378995],\n",
       "       [0.        , 1.        ],\n",
       "       [0.16444444, 0.83555556],\n",
       "       [1.        , 0.        ],\n",
       "       [0.95535714, 0.04464286],\n",
       "       [0.98564593, 0.01435407],\n",
       "       [1.        , 0.        ],\n",
       "       [0.00452489, 0.99547511],\n",
       "       [0.        , 1.        ],\n",
       "       [0.40540541, 0.59459459],\n",
       "       [0.88235294, 0.11764706],\n",
       "       [0.        , 1.        ],\n",
       "       [0.        , 1.        ],\n",
       "       [0.995     , 0.005     ],\n",
       "       [0.02830189, 0.97169811],\n",
       "       [0.        , 1.        ],\n",
       "       [0.97663551, 0.02336449],\n",
       "       [0.        , 1.        ],\n",
       "       [0.25      , 0.75      ],\n",
       "       [0.        , 1.        ],\n",
       "       [1.        , 0.        ],\n",
       "       [0.        , 1.        ],\n",
       "       [0.        , 1.        ],\n",
       "       [0.98717949, 0.01282051],\n",
       "       [0.77990431, 0.22009569],\n",
       "       [0.99074074, 0.00925926],\n",
       "       [0.        , 1.        ],\n",
       "       [0.06808511, 0.93191489],\n",
       "       [0.99521531, 0.00478469],\n",
       "       [0.03862661, 0.96137339],\n",
       "       [0.        , 1.        ],\n",
       "       [0.07582938, 0.92417062],\n",
       "       [1.        , 0.        ],\n",
       "       [0.79039301, 0.20960699],\n",
       "       [0.        , 1.        ],\n",
       "       [0.86147186, 0.13852814],\n",
       "       [0.9832636 , 0.0167364 ],\n",
       "       [0.14718615, 0.85281385],\n",
       "       [0.20869565, 0.79130435],\n",
       "       [1.        , 0.        ],\n",
       "       [0.        , 1.        ],\n",
       "       [0.        , 1.        ],\n",
       "       [0.        , 1.        ],\n",
       "       [0.25125628, 0.74874372],\n",
       "       [0.96      , 0.04      ],\n",
       "       [0.        , 1.        ],\n",
       "       [1.        , 0.        ],\n",
       "       [0.99559471, 0.00440529],\n",
       "       [0.        , 1.        ],\n",
       "       [0.49576271, 0.50423729],\n",
       "       [1.        , 0.        ],\n",
       "       [0.        , 1.        ],\n",
       "       [1.        , 0.        ],\n",
       "       [0.        , 1.        ],\n",
       "       [0.        , 1.        ],\n",
       "       [0.07655502, 0.92344498],\n",
       "       [0.08      , 0.92      ],\n",
       "       [0.98      , 0.02      ],\n",
       "       [0.00913242, 0.99086758],\n",
       "       [1.        , 0.        ],\n",
       "       [0.3640553 , 0.6359447 ],\n",
       "       [0.07017544, 0.92982456],\n",
       "       [0.5193133 , 0.4806867 ],\n",
       "       [0.55084746, 0.44915254],\n",
       "       [0.00862069, 0.99137931],\n",
       "       [1.        , 0.        ],\n",
       "       [0.        , 1.        ],\n",
       "       [0.        , 1.        ],\n",
       "       [0.56896552, 0.43103448],\n",
       "       [0.        , 1.        ],\n",
       "       [1.        , 0.        ],\n",
       "       [0.24122807, 0.75877193],\n",
       "       [0.77593361, 0.22406639],\n",
       "       [0.05607477, 0.94392523],\n",
       "       [1.        , 0.        ],\n",
       "       [0.81516588, 0.18483412],\n",
       "       [0.        , 1.        ],\n",
       "       [0.00970874, 0.99029126],\n",
       "       [0.07843137, 0.92156863],\n",
       "       [0.01666667, 0.98333333],\n",
       "       [0.        , 1.        ],\n",
       "       [0.99568966, 0.00431034],\n",
       "       [0.89449541, 0.10550459],\n",
       "       [0.18      , 0.82      ],\n",
       "       [0.95734597, 0.04265403],\n",
       "       [0.00460829, 0.99539171],\n",
       "       [0.61386139, 0.38613861],\n",
       "       [0.10176991, 0.89823009],\n",
       "       [0.98648649, 0.01351351],\n",
       "       [0.81702128, 0.18297872],\n",
       "       [0.        , 1.        ],\n",
       "       [1.        , 0.        ],\n",
       "       [0.95522388, 0.04477612],\n",
       "       [0.        , 1.        ],\n",
       "       [0.        , 1.        ],\n",
       "       [1.        , 0.        ],\n",
       "       [0.        , 1.        ],\n",
       "       [1.        , 0.        ],\n",
       "       [0.25777778, 0.74222222],\n",
       "       [0.99553571, 0.00446429],\n",
       "       [1.        , 0.        ],\n",
       "       [0.        , 1.        ],\n",
       "       [0.0047619 , 0.9952381 ],\n",
       "       [0.84773663, 0.15226337],\n",
       "       [0.        , 1.        ],\n",
       "       [1.        , 0.        ],\n",
       "       [0.75471698, 0.24528302],\n",
       "       [0.94470046, 0.05529954],\n",
       "       [1.        , 0.        ],\n",
       "       [0.68695652, 0.31304348],\n",
       "       [0.51141553, 0.48858447],\n",
       "       [0.        , 1.        ],\n",
       "       [0.88317757, 0.11682243],\n",
       "       [0.        , 1.        ],\n",
       "       [1.        , 0.        ],\n",
       "       [0.88118812, 0.11881188],\n",
       "       [1.        , 0.        ],\n",
       "       [1.        , 0.        ],\n",
       "       [0.75652174, 0.24347826],\n",
       "       [0.12389381, 0.87610619],\n",
       "       [0.42574257, 0.57425743],\n",
       "       [0.25112108, 0.74887892],\n",
       "       [0.        , 1.        ],\n",
       "       [0.90196078, 0.09803922],\n",
       "       [0.85279188, 0.14720812],\n",
       "       [0.00438596, 0.99561404],\n",
       "       [1.        , 0.        ],\n",
       "       [1.        , 0.        ],\n",
       "       [1.        , 0.        ],\n",
       "       [0.        , 1.        ],\n",
       "       [0.02040816, 0.97959184],\n",
       "       [0.9627907 , 0.0372093 ],\n",
       "       [0.96174863, 0.03825137],\n",
       "       [1.        , 0.        ],\n",
       "       [0.52422907, 0.47577093],\n",
       "       [1.        , 0.        ],\n",
       "       [0.        , 1.        ],\n",
       "       [0.98283262, 0.01716738],\n",
       "       [0.01339286, 0.98660714],\n",
       "       [1.        , 0.        ],\n",
       "       [1.        , 0.        ],\n",
       "       [1.        , 0.        ],\n",
       "       [0.        , 1.        ],\n",
       "       [0.95384615, 0.04615385],\n",
       "       [0.        , 1.        ],\n",
       "       [0.05909091, 0.94090909],\n",
       "       [0.        , 1.        ],\n",
       "       [0.        , 1.        ],\n",
       "       [1.        , 0.        ],\n",
       "       [1.        , 0.        ],\n",
       "       [0.        , 1.        ],\n",
       "       [0.9952381 , 0.0047619 ],\n",
       "       [0.01932367, 0.98067633],\n",
       "       [1.        , 0.        ],\n",
       "       [0.12612613, 0.87387387],\n",
       "       [0.        , 1.        ],\n",
       "       [0.01724138, 0.98275862],\n",
       "       [0.        , 1.        ],\n",
       "       [0.39719626, 0.60280374],\n",
       "       [0.05777778, 0.94222222],\n",
       "       [0.23660714, 0.76339286],\n",
       "       [1.        , 0.        ],\n",
       "       [0.99534884, 0.00465116],\n",
       "       [0.1797235 , 0.8202765 ],\n",
       "       [0.98984772, 0.01015228],\n",
       "       [0.        , 1.        ],\n",
       "       [0.        , 1.        ],\n",
       "       [1.        , 0.        ],\n",
       "       [0.95813953, 0.04186047],\n",
       "       [0.30188679, 0.69811321],\n",
       "       [1.        , 0.        ],\n",
       "       [1.        , 0.        ],\n",
       "       [0.00425532, 0.99574468],\n",
       "       [0.99086758, 0.00913242],\n",
       "       [0.0047619 , 0.9952381 ],\n",
       "       [0.02262443, 0.97737557],\n",
       "       [0.98678414, 0.01321586],\n",
       "       [1.        , 0.        ],\n",
       "       [0.03296703, 0.96703297],\n",
       "       [0.60930233, 0.39069767]])"
      ]
     },
     "execution_count": 6,
     "metadata": {},
     "output_type": "execute_result"
    }
   ],
   "source": [
    "out_bag_clf.oob_decision_function_"
   ]
  },
  {
   "cell_type": "markdown",
   "metadata": {},
   "source": [
    "## Random Patches and Random Subspaces\n",
    "同时对训练数据和特征进行抽样称为Random Patches，只针对特征抽样而不针对训练数据抽样是Random Subspaces"
   ]
  },
  {
   "cell_type": "markdown",
   "metadata": {},
   "source": [
    "## Random Forests"
   ]
  },
  {
   "cell_type": "code",
   "execution_count": 7,
   "metadata": {},
   "outputs": [
    {
     "name": "stdout",
     "output_type": "stream",
     "text": [
      "0.92\n"
     ]
    }
   ],
   "source": [
    "from sklearn.ensemble import RandomForestClassifier\n",
    "#for i in range(20):\n",
    "rnd_clf = RandomForestClassifier(n_estimators=600, max_leaf_nodes=11, n_jobs=-1)\n",
    "rnd_clf.fit(X_train, y_train)\n",
    "y_pred_rf = rnd_clf.predict(X_test)\n",
    "print(accuracy_score(y_test, y_pred_rf))"
   ]
  },
  {
   "cell_type": "code",
   "execution_count": 8,
   "metadata": {},
   "outputs": [
    {
     "data": {
      "text/plain": [
       "0.912"
      ]
     },
     "execution_count": 8,
     "metadata": {},
     "output_type": "execute_result"
    }
   ],
   "source": [
    "# 与randomforest 近似\n",
    "bag_clf_rf = BaggingClassifier(\n",
    "    DecisionTreeClassifier(splitter=\"random\", max_leaf_nodes=11),\n",
    "    n_estimators=600, max_samples=1.0, bootstrap=True, n_jobs=-1\n",
    ")\n",
    "y_pred_bag_rf = out_bag_clf.predict(X_test)\n",
    "accuracy_score(y_test, y_pred_bag_rf)"
   ]
  },
  {
   "cell_type": "markdown",
   "metadata": {},
   "source": [
    "### Extra-Trees\n",
    "对应scikit-learn的类为ExtraTreesClassifier（ExtraTreesRegressor），参数与随机森林相同。"
   ]
  },
  {
   "cell_type": "markdown",
   "metadata": {},
   "source": [
    "### 特征重要性(Feature Importance)"
   ]
  },
  {
   "cell_type": "code",
   "execution_count": 9,
   "metadata": {},
   "outputs": [
    {
     "name": "stdout",
     "output_type": "stream",
     "text": [
      "sepal length (cm) 0.10130515063744037\n",
      "sepal width (cm) 0.02232306267105223\n",
      "petal length (cm) 0.44188453773834047\n",
      "petal width (cm) 0.4344872489531667\n"
     ]
    }
   ],
   "source": [
    "from sklearn.datasets import load_iris\n",
    "iris = load_iris()\n",
    "rnd_clf = RandomForestClassifier(n_estimators=500, max_leaf_nodes=11, n_jobs=-1)\n",
    "rnd_clf.fit(iris[\"data\"], iris[\"target\"])\n",
    "for name, score in zip(iris[\"feature_names\"], rnd_clf.feature_importances_):\n",
    "    print(name, score)"
   ]
  },
  {
   "cell_type": "code",
   "execution_count": 10,
   "metadata": {
    "scrolled": true
   },
   "outputs": [
    {
     "data": {
      "text/plain": [
       "<matplotlib.colorbar.Colorbar at 0x7f05b0b92a20>"
      ]
     },
     "execution_count": 10,
     "metadata": {},
     "output_type": "execute_result"
    },
    {
     "data": {
      "image/png": "[encoded data removed]",
      "text/plain": [
       "<Figure size 432x288 with 2 Axes>"
      ]
     },
     "metadata": {},
     "output_type": "display_data"
    }
   ],
   "source": [
    "import matplotlib.pyplot as plt\n",
    "import matplotlib\n",
    "from sklearn.datasets import fetch_mldata\n",
    "mnist = fetch_mldata('MNIST original')\n",
    "rnd_clf = RandomForestClassifier(random_state=42)\n",
    "rnd_clf.fit(mnist[\"data\"], mnist[\"target\"])\n",
    "importances = rnd_clf.feature_importances_.reshape(28, 28)\n",
    "plt.imshow(importances, cmap=matplotlib.cm.hot)\n",
    "plt.colorbar(ticks = [rnd_clf.feature_importances_.min(), rnd_clf.feature_importances_.max()])"
   ]
  },
  {
   "cell_type": "markdown",
   "metadata": {},
   "source": [
    "## Boosting\n",
    "主要思想是按顺序训练学习器，以尝试修改之前的学习器。"
   ]
  },
  {
   "cell_type": "markdown",
   "metadata": {
    "collapsed": true
   },
   "source": [
    "### AdaBoost\n",
    "(1) m 个训练样本，w(i)初始化为1/m，经过j个学习器后错误率r(j)为：\n",
    "r(j) = ∑w(i)(st.ŷj(i)≠y(i)) / ∑w(i)\n",
    "\n",
    "(2)计算每个学习器的权值αj, αj=η*log((1−rj)/rj)\n",
    "\n",
    "(3)更新权重w(i)\n",
    "w(i) = w(i) st. ŷ j(i) = y(i)\n",
    "w(i) = w(i)exp(αj) st. ŷj(i)≠y(i)\n",
    "\n",
    "(4) 重复步骤1、 2、 3，\n",
    "\n",
    "(5)计算每个分类器的权重和，预测为加权后最大的\n",
    "ŷ(x)=argmax(∑αj st. ŷj(x)=k)"
   ]
  },
  {
   "cell_type": "markdown",
   "metadata": {},
   "source": [
    "SVM算法由于训练速度慢且不稳定，所以不适合AdaBoost的基算法；如果产生过拟合可以减少学习器的数目；AdaBoost的缺点为不能并行，由于每一个学习器依赖上一个学习器。"
   ]
  },
  {
   "cell_type": "code",
   "execution_count": 14,
   "metadata": {},
   "outputs": [
    {
     "data": {
      "text/plain": [
       "AdaBoostClassifier(algorithm='SAMME.R',\n",
       "          base_estimator=DecisionTreeClassifier(class_weight=None, criterion='gini', max_depth=2,\n",
       "            max_features=None, max_leaf_nodes=None,\n",
       "            min_impurity_decrease=0.0, min_impurity_split=None,\n",
       "            min_samples_leaf=1, min_samples_split=2,\n",
       "            min_weight_fraction_leaf=0.0, presort=False, random_state=None,\n",
       "            splitter='best'),\n",
       "          learning_rate=0.5, n_estimators=500, random_state=None)"
      ]
     },
     "execution_count": 14,
     "metadata": {},
     "output_type": "execute_result"
    }
   ],
   "source": [
    "from sklearn.tree import DecisionTreeClassifier\n",
    "from sklearn.ensemble import AdaBoostClassifier\n",
    "ada_clf = AdaBoostClassifier(\n",
    "    DecisionTreeClassifier(max_depth=2),\n",
    "    n_estimators=500,\n",
    "    algorithm=\"SAMME.R\",\n",
    "    learning_rate = 0.5\n",
    ")\n",
    "ada_clf.fit(X_train, y_train)"
   ]
  },
  {
   "cell_type": "code",
   "execution_count": 15,
   "metadata": {},
   "outputs": [
    {
     "data": {
      "text/plain": [
       "0.912"
      ]
     },
     "execution_count": 15,
     "metadata": {},
     "output_type": "execute_result"
    }
   ],
   "source": [
    "y_pred_ada = out_bag_clf.predict(X_test)\n",
    "accuracy_score(y_test, y_pred_ada)"
   ]
  },
  {
   "cell_type": "markdown",
   "metadata": {},
   "source": [
    "### Gradient Boosting\n",
    "回归任务"
   ]
  },
  {
   "cell_type": "code",
   "execution_count": 157,
   "metadata": {},
   "outputs": [],
   "source": [
    "import numpy.random as rnd\n",
    "from sklearn.tree import DecisionTreeRegressor\n",
    "\n",
    "X = rnd.rand(100, 1) - 0.5\n",
    "y = 3 * X[:, 0] ** 2 + 0.05 * rnd.randn(100)\n",
    "# 为什么用X y_pred 为100维度，用X[:, 0] 就是1维\n",
    "# 第一个模型\n",
    "tree_reg1 = DecisionTreeRegressor(max_depth = 2, random_state=42)\n",
    "tree_reg1.fit(X, y)\n",
    "#第二个\n",
    "y2 = y - tree_reg1.predict(X)\n",
    "tree_reg2 = DecisionTreeRegressor(max_depth = 2, random_state=42)\n",
    "tree_reg2.fit(X, y2)\n",
    "#第三个\n",
    "y3 = y - tree_reg2.predict(X)\n",
    "tree_reg3 = DecisionTreeRegressor(max_depth = 2, random_state=42)\n",
    "tree_reg3.fit(X, y3)\n",
    "#预测\n",
    "X_new=np.array([[0.8]])\n",
    "y_pred = sum(tree.predict(X_new) for tree in (tree_reg1, tree_reg2, tree_reg3))"
   ]
  },
  {
   "cell_type": "code",
   "execution_count": 158,
   "metadata": {},
   "outputs": [
    {
     "data": {
      "text/plain": [
       "array([0.91348585])"
      ]
     },
     "execution_count": 158,
     "metadata": {},
     "output_type": "execute_result"
    }
   ],
   "source": [
    "y_pred"
   ]
  },
  {
   "cell_type": "code",
   "execution_count": 169,
   "metadata": {
    "scrolled": true
   },
   "outputs": [
    {
     "ename": "NameError",
     "evalue": "name 'gbrt' is not defined",
     "output_type": "error",
     "traceback": [
      "\u001b[0;31m---------------------------------------------------------------------------\u001b[0m",
      "\u001b[0;31mNameError\u001b[0m                                 Traceback (most recent call last)",
      "\u001b[0;32m<ipython-input-169-9d61a52e7232>\u001b[0m in \u001b[0;36m<module>\u001b[0;34m()\u001b[0m\n\u001b[1;32m     12\u001b[0m \u001b[0mgbr\u001b[0m\u001b[0;34m.\u001b[0m\u001b[0mfit\u001b[0m\u001b[0;34m(\u001b[0m\u001b[0mX\u001b[0m\u001b[0;34m,\u001b[0m \u001b[0my\u001b[0m\u001b[0;34m)\u001b[0m\u001b[0;34m\u001b[0m\u001b[0m\n\u001b[1;32m     13\u001b[0m \u001b[0mplot_predictions\u001b[0m\u001b[0;34m(\u001b[0m\u001b[0;34m[\u001b[0m\u001b[0mgbr\u001b[0m\u001b[0;34m]\u001b[0m\u001b[0;34m,\u001b[0m \u001b[0mX\u001b[0m\u001b[0;34m,\u001b[0m \u001b[0my\u001b[0m\u001b[0;34m,\u001b[0m \u001b[0maxes\u001b[0m\u001b[0;34m=\u001b[0m\u001b[0;34m[\u001b[0m\u001b[0;34m-\u001b[0m\u001b[0;36m0.5\u001b[0m\u001b[0;34m,\u001b[0m \u001b[0;36m0.5\u001b[0m\u001b[0;34m,\u001b[0m \u001b[0;34m-\u001b[0m\u001b[0;36m0.1\u001b[0m\u001b[0;34m,\u001b[0m \u001b[0;36m0.8\u001b[0m\u001b[0;34m]\u001b[0m\u001b[0;34m,\u001b[0m \u001b[0mlabel\u001b[0m\u001b[0;34m=\u001b[0m\u001b[0;34m\"Ensemble predictions\"\u001b[0m\u001b[0;34m)\u001b[0m\u001b[0;34m\u001b[0m\u001b[0m\n\u001b[0;32m---> 14\u001b[0;31m \u001b[0mplt\u001b[0m\u001b[0;34m.\u001b[0m\u001b[0mtitle\u001b[0m\u001b[0;34m(\u001b[0m\u001b[0;34m\"learning_rate={}, n_estimators={}\"\u001b[0m\u001b[0;34m.\u001b[0m\u001b[0mformat\u001b[0m\u001b[0;34m(\u001b[0m\u001b[0mgbrt\u001b[0m\u001b[0;34m.\u001b[0m\u001b[0mlearning_rate\u001b[0m\u001b[0;34m,\u001b[0m \u001b[0mgbrt\u001b[0m\u001b[0;34m.\u001b[0m\u001b[0mn_estimators\u001b[0m\u001b[0;34m)\u001b[0m\u001b[0;34m,\u001b[0m \u001b[0mfontsize\u001b[0m\u001b[0;34m=\u001b[0m\u001b[0;36m14\u001b[0m\u001b[0;34m)\u001b[0m\u001b[0;34m\u001b[0m\u001b[0m\n\u001b[0m",
      "\u001b[0;31mNameError\u001b[0m: name 'gbrt' is not defined"
     ]
    },
    {
     "data": {
      "image/png": "[encoded data removed]",
      "text/plain": [
       "<Figure size 432x288 with 1 Axes>"
      ]
     },
     "metadata": {},
     "output_type": "display_data"
    }
   ],
   "source": [
    "def plot_predictions(regressors, X, y, axes, label=None, style=\"r-\", data_style=\"b.\", data_label=None):\n",
    "    x1 = np.linspace(axes[0], axes[1], 500)\n",
    "    y_pred = sum(regressor.predict(x1.reshape(-1, 1)) for regressor in regressors)\n",
    "    plt.plot(X[:, 0], y, data_style, label=data_label)\n",
    "    plt.plot(x1, y_pred, style, linewidth=2, label=label)\n",
    "    if label or data_label:\n",
    "        plt.legend(loc=\"upper center\", fontsize=16)\n",
    "    plt.axis(axes)\n",
    "# \n",
    "from sklearn.ensemble import GradientBoostingRegressor\n",
    "gbr = GradientBoostingRegressor(max_depth = 2, n_estimators = 8, learning_rate = 0.5)\n",
    "gbr.fit(X, y)\n",
    "plot_predictions([gbr], X, y, axes=[-0.5, 0.5, -0.1, 0.8], label=\"Ensemble predictions\")\n",
    "plt.title(\"learning_rate={}, n_estimators={}\".format(gbrt.learning_rate, gbrt.n_estimators), fontsize=14)"
   ]
  },
  {
   "cell_type": "markdown",
   "metadata": {},
   "source": [
    "#### 最优学习器\n",
    "1. early stoping 对应使用staged_predict(),返回每增加一个学习期的预测结果\n",
    "2. 使用warm_start， 当error不在下降的时候，停止\n"
   ]
  },
  {
   "cell_type": "code",
   "execution_count": 172,
   "metadata": {},
   "outputs": [
    {
     "data": {
      "text/plain": [
       "Text(0.5,1,'learning_rate=0.1, n_estimators=44')"
      ]
     },
     "execution_count": 172,
     "metadata": {},
     "output_type": "execute_result"
    },
    {
     "data": {
      "image/png": "[encoded data removed]",
      "text/plain": [
       "<Figure size 432x288 with 1 Axes>"
      ]
     },
     "metadata": {},
     "output_type": "display_data"
    }
   ],
   "source": [
    "import numpy as np\n",
    "from sklearn.model_selection import train_test_split\n",
    "from sklearn.metrics import mean_squared_error\n",
    "\n",
    "X_train, X_test, y_train, y_test = train_test_split(X, y)\n",
    "gbr_001 = GradientBoostingRegressor(max_depth=2, n_estimators=50)\n",
    "gbr_001.fit(X_train, y_train)\n",
    "errors = [mean_squared_error(y_test, y_pred) for y_pred in gbr_001.staged_predict(X_test)]\n",
    "best_n_estimators = np.argmin(errors)\n",
    "gbr_best = GradientBoostingRegressor(max_depth=2, n_estimators=best_n_estimators)\n",
    "gbr_best.fit(X_train, y_train)\n",
    "\n",
    "plot_predictions([gbr_best], X_train, y_train, axes=[-0.5, 0.5, -0.1, 0.8], label=\"Ensemble predictions\")\n",
    "plt.title(\"learning_rate={}, n_estimators={}\".format(gbr_best.learning_rate, gbr_best.n_estimators), fontsize=14)"
   ]
  },
  {
   "cell_type": "code",
   "execution_count": 175,
   "metadata": {},
   "outputs": [
    {
     "name": "stdout",
     "output_type": "stream",
     "text": [
      "50\n"
     ]
    }
   ],
   "source": [
    "\n",
    "gbrt = GradientBoostingRegressor(max_depth=2, n_estimators=1, learning_rate=0.1, random_state=42, warm_start=True)\n",
    "min_val_error = float(\"inf\")\n",
    "error_going_up = 0\n",
    "for n_estimators in range(1, 120):\n",
    "    gbrt.n_estimators = n_estimators\n",
    "    gbrt.fit(X_train, y_train)\n",
    "    y_pred = gbrt.predict(X_test)\n",
    "    val_error = mean_squared_error(y_test, y_pred)\n",
    "    if val_error < min_val_error:\n",
    "        min_val_error = val_error\n",
    "        error_going_up = 0\n",
    "    else:\n",
    "        error_going_up += 1\n",
    "        if error_going_up == 5:\n",
    "            break  # early stopping\n",
    "print(gbrt.n_estimators)"
   ]
  },
  {
   "cell_type": "markdown",
   "metadata": {},
   "source": [
    "## Stacking\n",
    "多个分类器结果为特征，进行特征训练\n",
    "\n",
    "实现这个思想的诀窍是将训练集分成三份，第一份用于训练多个基学习器，第二份用于训练第二个层（使用第一个层的预测器进行的预测作为输入），第三份用于训练第三层（使用第二层的预测器进行的预测作为输入）。\n",
    "\n",
    "scikit-learn没有提供stacking的实现，但是实现并不困难，可以参见（https://github.com/viisar/brew）。 "
   ]
  },
  {
   "cell_type": "code",
   "execution_count": null,
   "metadata": {
    "collapsed": true
   },
   "outputs": [],
   "source": []
  }
 ],
 "metadata": {
  "kernelspec": {
   "display_name": "Python 3",
   "language": "python",
   "name": "python3"
  },
  "language_info": {
   "codemirror_mode": {
    "name": "ipython",
    "version": 3
   },
   "file_extension": ".py",
   "mimetype": "text/x-python",
   "name": "python",
   "nbconvert_exporter": "python",
   "pygments_lexer": "ipython3",
   "version": "3.6.2"
  }
 },
 "nbformat": 4,
 "nbformat_minor": 2
}
