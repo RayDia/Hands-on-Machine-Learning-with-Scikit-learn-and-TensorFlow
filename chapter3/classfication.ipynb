{
 "cells": [
  {
   "cell_type": "markdown",
   "metadata": {},
   "source": [
    "Ray 个人翻译，切勿商业使用。\n",
    "# 分类 "
   ]
  },
  {
   "cell_type": "markdown",
   "metadata": {},
   "source": [
    "## MNIST数据集\n",
    "我们将使用MNIST数据集，这个数据集有70000张由US Census Bureaude 的学生和员工手写的数字的小图片。这个数据集常常被用来研究，就像是机器学习的“HELLO WORLD”－样。无论何时，只要人们想出来一个新的分类算法，他们总是好奇在MNIST上的效果。无论何时，只要一个人学习机器学习，迟早会处理MNIST。\n",
    "Scikit-Learn提供了下载著名数据集的助手函数。MNIST也可以倍用来下载。"
   ]
  },
  {
   "cell_type": "code",
   "execution_count": 1,
   "metadata": {
    "collapsed": true
   },
   "outputs": [],
   "source": [
    "# To support both python 2 and python 3\n",
    "from __future__ import division, print_function, unicode_literals\n",
    "\n",
    "# Common imports\n",
    "import numpy as np\n",
    "import os\n",
    "\n",
    "# to make this notebook's output stable across runs\n",
    "np.random.seed(42)\n",
    "\n",
    "# To plot pretty figures\n",
    "%matplotlib inline\n",
    "import matplotlib\n",
    "import matplotlib.pyplot as plt\n",
    "plt.rcParams['axes.labelsize'] = 14\n",
    "plt.rcParams['xtick.labelsize'] = 12\n",
    "plt.rcParams['ytick.labelsize'] = 12\n",
    "\n",
    "# Where to save the figures\n",
    "PROJECT_ROOT_DIR = \".\"\n",
    "CHAPTER_ID = \"classification\"\n",
    "\n",
    "def save_fig(fig_id, tight_layout=True):\n",
    "    path = os.path.join(PROJECT_ROOT_DIR, \"images\", CHAPTER_ID, fig_id + \".png\")\n",
    "    print(\"Saving figure\", fig_id)\n",
    "    if tight_layout:\n",
    "        plt.tight_layout()\n",
    "    plt.savefig(path, format='png', dpi=300)\n",
    "from sklearn.datasets import fetch_mldata\n",
    "mnist = fetch_mldata('MNIST original')\n",
    "mnist"
   ]
  },
  {
   "cell_type": "code",
   "execution_count": null,
   "metadata": {
    "collapsed": true
   },
   "outputs": [],
   "source": [
    "Scikit-Learn下载的数据通常都是相似的字典结构：\n",
    "• 一个'DESCR'键来描述数据集\n",
    "• 一个'data'键包含一个含有一行代表一个实例，一列代表一个属性的数组\n",
    "• 一个'target'键包含标签值的数组"
   ]
  },
  {
   "cell_type": "code",
   "execution_count": 4,
   "metadata": {
    "collapsed": true
   },
   "outputs": [],
   "source": [
    "X, y = mnist[\"data\"], mnist[\"target\"]\n",
    "X_train, X_test, y_train, y_test = X[:60000], X[60000:], y[:60000], y[60000:]"
   ]
  },
  {
   "cell_type": "markdown",
   "metadata": {},
   "source": [
    "数据集有70000个图像，每个图像有784个特征。这是因为每个图像是28×28像素，并且每个特征简单地表示一个像素的强度，从0（白色）到255（黑色）。让我们从数据集中看一个数字。你需要做的就是抓取一个实例的特征向量，将它改写成一个28×28的数组，然后使用Matplotlib’s imshow()来显示它。"
   ]
  },
  {
   "cell_type": "code",
   "execution_count": null,
   "metadata": {
    "collapsed": true
   },
   "outputs": [],
   "source": [
    "%matplotlib inline\n",
    "import matplotlib\n",
    "import matplotlib.pyplot as plt\n",
    "\n",
    "some_digit = X[36000]\n",
    "some_digit_image = some_digit.reshape(28, 28)\n",
    "plt.imshow(some_digit_image, cmap = matplotlib.cm.binary,\n",
    "           interpolation=\"nearest\")\n",
    "plt.axis(\"off\")\n",
    "\n",
    "#save_fig(\"some_digit_plot\")\n",
    "plt.show()"
   ]
  },
  {
   "cell_type": "markdown",
   "metadata": {},
   "source": [
    "图3-1显示了MNIST数据集的更多图像，让您感受到分类任务的复杂性。\n",
    "![](./images/3-1.png)\n",
    "但是等等！你应该总是创建一个测试集并把它放在一边，然后仔细检查数据。MNIST数据集实际上已经被分割成一个训练集（前60000个图像）和一个测试集（最后10000个图像）：\n",
    "X_train, X_test, y_train, y_test = X[:60000], X[60000:], y[:60000], y[60000:]\n",
    "我们也可以对训练集进行洗牌，这样可以保证所有交叉验证的折叠都是相似的（你不希望一个数字会丢失一个数字）。此外，一些学习算法对训练实例的顺序是敏感的，并且如果它们执行时连续获得很多类似的例子效果就会就很糟糕。数据集的洗牌确保不会发生这种情况。"
   ]
  },
  {
   "cell_type": "markdown",
   "metadata": {},
   "source": [
    "### 打乱数据集shuffle"
   ]
  },
  {
   "cell_type": "code",
   "execution_count": 5,
   "metadata": {
    "collapsed": true
   },
   "outputs": [],
   "source": [
    "import numpy as np\n",
    "shuffle_index = np.random.permutation(60000)\n",
    "X_train, y_train = X_train[shuffle_index], y_train[shuffle_index]"
   ]
  },
  {
   "cell_type": "markdown",
   "metadata": {},
   "source": [
    "# 训练二分类\n",
    "现在让我们简化这个问题，只尝试找出一个数字，例如数字5。这个“5检测器”将是二分类器的一个例子，能够区分两个类，5和不是5。让我们为这个分类任务创建目标向量："
   ]
  },
  {
   "cell_type": "code",
   "execution_count": null,
   "metadata": {
    "collapsed": true
   },
   "outputs": [],
   "source": [
    "y_train_5 = (y_train == 5)\n",
    " # True for all 5s, False for all other digits.\n",
    "y_test_5 = (y_test == 5)"
   ]
  },
  {
   "cell_type": "markdown",
   "metadata": {},
   "source": [
    "好，现在让我们选一个分类器并训练它。开始的好地方是使用随机梯度下降（SGD）分类器，使用Scikit-Learn的SGDClassifier类。该分类器具有能够有效处理非常大的数据集的优点。这部分是因为SGD每次单独地处理训练实例（这也使得SGD非常适合在线学习），正如我们稍后将看到的。让我们创建一个SGD分类器并在整个训练集上进行训练："
   ]
  },
  {
   "cell_type": "markdown",
   "metadata": {},
   "source": [
    "### 训练模型"
   ]
  },
  {
   "cell_type": "code",
   "execution_count": 7,
   "metadata": {},
   "outputs": [
    {
     "name": "stderr",
     "output_type": "stream",
     "text": [
      "/home/bladeray/anaconda3/envs/tf/lib/python3.6/site-packages/sklearn/linear_model/stochastic_gradient.py:128: FutureWarning: max_iter and tol parameters have been added in <class 'sklearn.linear_model.stochastic_gradient.SGDClassifier'> in 0.19. If both are left unset, they default to max_iter=5 and tol=None. If tol is not None, max_iter defaults to max_iter=1000. From 0.21, default max_iter will be 1000, and default tol will be 1e-3.\n",
      "  \"and default tol will be 1e-3.\" % type(self), FutureWarning)\n"
     ]
    },
    {
     "data": {
      "text/plain": [
       "RandomForestClassifier(bootstrap=True, class_weight=None, criterion='gini',\n",
       "            max_depth=None, max_features='auto', max_leaf_nodes=None,\n",
       "            min_impurity_decrease=0.0, min_impurity_split=None,\n",
       "            min_samples_leaf=1, min_samples_split=2,\n",
       "            min_weight_fraction_leaf=0.0, n_estimators=10, n_jobs=1,\n",
       "            oob_score=False, random_state=42, verbose=0, warm_start=False)"
      ]
     },
     "execution_count": 7,
     "metadata": {},
     "output_type": "execute_result"
    }
   ],
   "source": [
    "from sklearn.linear_model import SGDClassifier\n",
    "from sklearn.ensemble import RandomForestClassifier\n",
    "sgd_clf = SGDClassifier(random_state = 42)\n",
    "ran_for_clf = RandomForestClassifier(random_state = 42)\n",
    "sgd_clf.fit(X_train, y_train_5) #二分类\n",
    "ran_for_clf.fit(X_train, y_train) #多分类"
   ]
  },
  {
   "cell_type": "markdown",
   "metadata": {},
   "source": [
    "SGD分类器依赖于训练过程中的随机性（因此命名为“随机”）。如果需要可重复的结果，则应设置random_state参数。"
   ]
  },
  {
   "cell_type": "markdown",
   "metadata": {},
   "source": [
    "# 效果衡量\n",
    "\n",
    "评估分类器通常比评估回归函数要复杂得多，因此将在本主题中花费大量篇章。有很多可用的性能指标，所以再拿一杯咖啡，准备学习许多新概念和首字母缩略词！"
   ]
  },
  {
   "cell_type": "markdown",
   "metadata": {},
   "source": [
    "## 交叉验证衡量精度\n",
    "\n",
    "评估模型的一个好方法是使用交叉验证，就像你在第2章中所做的那样。\n",
    "### 实现交叉验证\n",
    "偶尔，您需要更多的交叉验证过程的控制，而不是SCIKIT学习提供的现成的。在这些情况下，您可以自己实现交叉验证；实际上是相当简单的。下面的代码与Scikit-Learn的 cross_val_score()函数大致相同，并打印相同的结果："
   ]
  },
  {
   "cell_type": "code",
   "execution_count": null,
   "metadata": {
    "collapsed": true
   },
   "outputs": [],
   "source": [
    "from sklearn.model_selection import StratifiedKFold\n",
    "from sklearn.base import clone\n",
    "skfolds = StratifiedKFold(n_splits=3, random_state=42)\n",
    "for train_index, test_index in skfolds.split(X_train, y_train_5):\n",
    "    clone_clf = clone(sgd_clf)\n",
    "    X_train_folds = X_train[train_index]\n",
    "    y_train_folds = y_train_5[train_index]\n",
    "    X_test_fold = X_train[test_index]\n",
    "    y_test_fold = y_train_5[test_index]\n",
    "    clone_clf.fit(X_train_folds, y_train_folds)\n",
    "    y_pred = clone_clf.predict(X_test_fold)\n",
    "    n_correct = sum(y_pred == y_test_fold)\n",
    "    print(n_correct / len(y_pred)) # prints 0.9502, 0.96565 and 0.96495"
   ]
  },
  {
   "cell_type": "markdown",
   "metadata": {},
   "source": [
    "StratifiedKFold类执行分层抽样（如第2章所述），以产生包含每个类的代表比率的折。在每次迭代中，代码创建分类器的克隆，在训练折叠上训练克隆，并对测试折叠进行预测。然后计算正确预测的数量并输出正确预测的比率。"
   ]
  },
  {
   "cell_type": "raw",
   "metadata": {},
   "source": [
    "让我们使用cross_val_score()函数来评估您的SGDClassifier模型，使用K-折叠交叉验证，三倍。记住k倍交叉验证意味着将训练集拆分成k折叠（在这种情况下，三折），然后利用在剩余折叠上训练的模型对每个折叠进行预测和评估（参见第2章）："
   ]
  },
  {
   "cell_type": "code",
   "execution_count": 8,
   "metadata": {},
   "outputs": [
    {
     "name": "stderr",
     "output_type": "stream",
     "text": [
      "/home/bladeray/anaconda3/envs/tf/lib/python3.6/site-packages/sklearn/linear_model/stochastic_gradient.py:128: FutureWarning: max_iter and tol parameters have been added in <class 'sklearn.linear_model.stochastic_gradient.SGDClassifier'> in 0.19. If both are left unset, they default to max_iter=5 and tol=None. If tol is not None, max_iter defaults to max_iter=1000. From 0.21, default max_iter will be 1000, and default tol will be 1e-3.\n",
      "  \"and default tol will be 1e-3.\" % type(self), FutureWarning)\n",
      "/home/bladeray/anaconda3/envs/tf/lib/python3.6/site-packages/sklearn/linear_model/stochastic_gradient.py:128: FutureWarning: max_iter and tol parameters have been added in <class 'sklearn.linear_model.stochastic_gradient.SGDClassifier'> in 0.19. If both are left unset, they default to max_iter=5 and tol=None. If tol is not None, max_iter defaults to max_iter=1000. From 0.21, default max_iter will be 1000, and default tol will be 1e-3.\n",
      "  \"and default tol will be 1e-3.\" % type(self), FutureWarning)\n",
      "/home/bladeray/anaconda3/envs/tf/lib/python3.6/site-packages/sklearn/linear_model/stochastic_gradient.py:128: FutureWarning: max_iter and tol parameters have been added in <class 'sklearn.linear_model.stochastic_gradient.SGDClassifier'> in 0.19. If both are left unset, they default to max_iter=5 and tol=None. If tol is not None, max_iter defaults to max_iter=1000. From 0.21, default max_iter will be 1000, and default tol will be 1e-3.\n",
      "  \"and default tol will be 1e-3.\" % type(self), FutureWarning)\n"
     ]
    }
   ],
   "source": [
    "from sklearn.model_selection import cross_val_predict\n",
    "y_train_5_pre = cross_val_predict(sgd_clf, X_train, y_train_5, cv = 3)\n",
    "y_train_pre = cross_val_predict(ran_for_clf, X_train, y_train, cv = 5)\n",
    "\n",
    "#from sklearn.model_selection import cross_val_score\n",
    "#cross_val_score(sgd_clf, X_train, y_train_5, cv = 3, scoring = \"accuracy\")"
   ]
  },
  {
   "cell_type": "code",
   "execution_count": 9,
   "metadata": {},
   "outputs": [
    {
     "data": {
      "text/plain": [
       "array([False, False, False, ..., False, False, False])"
      ]
     },
     "execution_count": 9,
     "metadata": {},
     "output_type": "execute_result"
    }
   ],
   "source": [
    "y_train_5_pre\n",
    "#y_train_pre"
   ]
  },
  {
   "cell_type": "markdown",
   "metadata": {},
   "source": [
    "哇！超过95%的准确度（正确预测的比率）对所有折交叉验证？这看起来很神奇，不是吗？嗯，在你太兴奋之前，让我们来看看一个非常愚蠢的分类器，它只对“非5”类中的每一个图像进行分类："
   ]
  },
  {
   "cell_type": "code",
   "execution_count": null,
   "metadata": {
    "collapsed": true
   },
   "outputs": [],
   "source": [
    "from sklearn.base import BaseEstimator\n",
    "class Never5Classifier(BaseEstimator):\n",
    "    def fit(self, X, y=None):\n",
    "        pass\n",
    "    def predict(self, X):\n",
    "        return np.zeros((len(X), 1), dtype=bool)"
   ]
  },
  {
   "cell_type": "markdown",
   "metadata": {},
   "source": [
    "你能猜出这个模型的准确性吗？让我们找出："
   ]
  },
  {
   "cell_type": "code",
   "execution_count": null,
   "metadata": {
    "collapsed": true
   },
   "outputs": [],
   "source": [
    ">>> never_5_clf = Never5Classifier()\n",
    ">>> cross_val_score(never_5_clf, X_train, y_train_5, cv=3, scoring=\"accuracy\")\n",
    "array([ 0.909 , 0.90715, 0.9128 ])"
   ]
  },
  {
   "cell_type": "markdown",
   "metadata": {},
   "source": [
    "没错，它有超过90%的准确率！这很简单，因为只有大约10%的图像是5，所以如果你总是猜测图像不是5，那么你大约有90%的时间是正确的。打败Nostradamus。\n",
    "\n",
    "这说明了为什么精度通常不是分类器的首选性能度量，特别是当您处理倾斜数据集时（即，当某些类比其他数据集更频繁时）。"
   ]
  },
  {
   "cell_type": "markdown",
   "metadata": {},
   "source": [
    "## 混淆矩阵\n",
    "评估分类器性能的一个更好的方法是查看混淆矩阵。一般的想法是计数类A的实例被分类为B类的次数。例如，为了知道分类器混淆5与3的图像的次数，你会看到混淆矩阵的第五行和第三列。\n",
    "\n",
    "要计算混淆矩阵，首先需要有一组预测，这样它们就可以与实际目标进行比较。你可以在测试集上做出预测，但是现在让我们保持它不变（记住一旦你有了一个你准备使用的分类器，你只在项目的末尾使用测试集）。相反，您可以使用cross_val_predict()函数：\n",
    "\n",
    "from sklearn.model_selection import cross_val_predict\n",
    "y_train_pred = cross_val_predict(sgd_clf, X_train, y_train_5, cv=3)\n",
    "\n",
    "就像cross_val_score()函数，cross_val_predict执行k折交叉验证，但它不是返回评价分数，而是返回每个测试折叠上的预测。这意味着你对训练集中的每个实例都有一个干净的预测（“干净”），意味着预测是由看不到训练中数据的模型预测的。\n",
    "\n",
    "现在，可以confusion_matrix()函数获取混淆矩阵。只传递目标类（y_train_5）和预测类（(y_train_pred）："
   ]
  },
  {
   "cell_type": "code",
   "execution_count": 10,
   "metadata": {},
   "outputs": [
    {
     "data": {
      "text/plain": [
       "array([[53590,   989],\n",
       "       [ 1434,  3987]])"
      ]
     },
     "execution_count": 10,
     "metadata": {},
     "output_type": "execute_result"
    }
   ],
   "source": [
    "from sklearn.metrics import confusion_matrix\n",
    "confusion_matrix(y_train_5, y_train_5_pre)"
   ]
  },
  {
   "cell_type": "markdown",
   "metadata": {},
   "source": [
    "混淆矩阵中的每一行表示一个实际类，而每个列表示一个预测类。该矩阵的第一行考虑非5图像（负类）：其中53272个被正确分类为非5（它们被称为真阴性），而其余1307个被错误分类为5（假阳性）。第二行认为5S（阳性类）的图像：1077被错误分类为非5（假阴性），而剩下的4344被正确分类为5（真阳性）。一个完美的分类器只有真正和真负，所以它的混淆矩阵只有在它的主对角线上（左上到右下）才有非零值。\n",
    "\n",
    "混淆矩阵给了你很多信息，但有时你可能更喜欢一个更简洁的度量。一个有趣的观察是正预测的准确性；这被称为分类器的精度（方程式3-1）。\n",
    "precision =TP / (TP + FP)\n",
    "TP是真阳性的数目，FP是假阳性的数目。\n",
    "\n",
    "具有完美精度的一种简单的方法是进行一个正的预测，并确保它是正确的（精度＝1/1＝100%）。这将是非常有用的，因为分类器会忽略除了一个正实例之外的所有。因此，精度通常与另一个称为召回的度量，也称为灵敏度或真阳性率（TPR）一起使用：这是由分类器正确地检测到的正例的比率（方程3-2）。\n",
    "recall = TP / (TP + FN)\n",
    "FN是假阴性的数目。\n",
    "\n",
    "如果你对混淆矩阵感到困惑，图3-2可能会有所帮助。\n",
    "![](./images/3-2.png)"
   ]
  },
  {
   "cell_type": "markdown",
   "metadata": {},
   "source": [
    "## 精度与召回\n",
    "\n",
    "Scikit-Learn提供了计算分类器度量的几个函数，包括精度和召回："
   ]
  },
  {
   "cell_type": "code",
   "execution_count": null,
   "metadata": {
    "collapsed": true
   },
   "outputs": [],
   "source": [
    ">>> from sklearn.metrics import precision_score, recall_score\n",
    ">>> precision_score(y_train_5, y_train_pred) # == 4344 / (4344 + 1307)\n",
    "0.76871350203503808\n",
    ">>> recall_score(y_train_5, y_train_pred) # == 4344 / (4344 + 1077)\n",
    "0.80132816823464303"
   ]
  },
  {
   "cell_type": "markdown",
   "metadata": {},
   "source": [
    "现在你的5检测器看起来不像你看到它的准确性一样闪闪发光。当它声称图像代表5时，只有77%的时间是正确的。此外，它只检测80%的5。\n",
    "\n",
    "将精度和召回率合并到一个称为F1分数的度量中通常是方便的，特别是如果需要一种简单的方法来比较两个分类器。F1分数是精度和召回的调和平均值（方程式3-3）。而正则均值平均对待所有值，调和平均值给低值赋予更多的权重。因此，如果召回率和精度都很高，分类器只会得到较高的F1分数。\n",
    "![](./images/e3-3.png)\n",
    "要计算F1分数，只需调用 f1_score()函数：\n",
    "\n",
    "f1分数有利于具有相似精度和召回的分类器。这并不总是你想要的：在某些情况下，你最关心的是精确性，而在其他情况下，你真的很在乎召回。例如，如果你训练了一个分类器来检测对孩子来说是安全的视频，那么你可能更喜欢一个拒绝很多好视频（低召回率）的分类器，但只保留安全的（高精度），而不是一个具有更高召回率的分类器，但是让一些非常糟糕的视频显示出来。在您的产品中（在这种情况下，您甚至可能需要添加一个人力管道来检查分类器的视频选择）。另一方面，假设你训练一个分类器来监视监视图像上的小偷。如果你的分类器只有30%的精确度，那么只要它有99%的召回率（当然，安全卫士会得到一些错误警报，但是几乎所有的扒手都会被捕获），那么它可能是好的。\n",
    "\n",
    "不幸的是，你不能两面兼顾：提高精确度会降低召回率，反之亦然。这就是所谓的精确/召回权衡。"
   ]
  },
  {
   "cell_type": "code",
   "execution_count": 11,
   "metadata": {},
   "outputs": [
    {
     "data": {
      "text/plain": [
       "0.7669520053861691"
      ]
     },
     "execution_count": 11,
     "metadata": {},
     "output_type": "execute_result"
    }
   ],
   "source": [
    "from sklearn.metrics import precision_score, recall_score\n",
    "precision_score(y_train_5, y_train_5_pre)\n",
    "recall_score(y_train_5, y_train_5_pre)\n",
    "\n",
    "from sklearn.metrics import f1_score\n",
    "f1_score(y_train_5, y_train_5_pre)"
   ]
  },
  {
   "cell_type": "markdown",
   "metadata": {},
   "source": [
    "## Precision/Recall 的权衡 使用Threshold\n",
    "为了理解这种折中，让我们来看看SGDClassifier是如何做出分类决策的。对于每个实例，它基于一个决策函数计算一个分数，如果该分数大于一个阈值，它将实例分配给正类，或者将它分配给负类。图3-3显示了一些数字，从左边的最低分数到右边的最高分数。假设决策阈值位于中心箭头（在两个5之间）：你会发现4个真阳性（实际5）在该阈值的右边，一个假阳性（实际上是6）。因此，利用该阈值，精度为80%（5个中的4个）。但是在6个实际的5s中，分类器仅检测4个，因此召回率为67%（6个中的4个）。现在，如果你提高阈值（把它移到右边的箭头上），假阳性（6）变成真的阴性，从而提高精确度（在这种情况下高达100%），但是一个真正的阳性变成假阴性，将召回降低到50%。相反，降低阈值会增加召回率并降低精度。\n",
    "![](./images/3-3.png)"
   ]
  },
  {
   "cell_type": "markdown",
   "metadata": {},
   "source": [
    "Scikit-Learn不允许直接设置阈值，但是它确实让你访问它用来做出预测的决策分数。不调用分类器的predict()方法，你可以调用它的 decision_function()方法，它为每个实例返回一个分数，然后使用你想要的任何阈值来基于这些分数进行预测："
   ]
  },
  {
   "cell_type": "code",
   "execution_count": null,
   "metadata": {
    "collapsed": true
   },
   "outputs": [],
   "source": [
    ">>> y_scores = sgd_clf.decision_function([some_digit])\n",
    ">>> y_scores\n",
    "array([ 161855.74572176])\n",
    ">>> threshold = 0\n",
    ">>> y_some_digit_pred = (y_scores > threshold)\n",
    "array([ True], dtype=bool)"
   ]
  },
  {
   "cell_type": "markdown",
   "metadata": {},
   "source": [
    "SGDClassifier使用等于0的阈值，因此先前的代码返回与predict()方法相同的结果（即TRUE）。让我们提高阀值："
   ]
  },
  {
   "cell_type": "code",
   "execution_count": null,
   "metadata": {
    "collapsed": true
   },
   "outputs": [],
   "source": [
    ">>> threshold = 200000\n",
    ">>> y_some_digit_pred = (y_scores > threshold)\n",
    ">>> y_some_digit_pred\n",
    "array([False], dtype=bool)"
   ]
  },
  {
   "cell_type": "markdown",
   "metadata": {},
   "source": [
    "这证实了提高阀值降低召回率。图像实际上代表了5，分类器在阈值为0时检测到它，但是当阈值增加到200000时它就错了。\n",
    "\n",
    "那么你如何决定使用哪一个阈值呢？为此，您将首先需要使用 cross_val_predict()函数再次获得训练集中的所有实例的分数，但这次指定您希望它返回决策分数而不是预测：\n",
    "\n",
    "现在使用这些分数，您可以使用 precision_recall_curve()函数计算所有可能的阈值的精度和召回率："
   ]
  },
  {
   "cell_type": "code",
   "execution_count": 12,
   "metadata": {
    "scrolled": true
   },
   "outputs": [
    {
     "name": "stderr",
     "output_type": "stream",
     "text": [
      "/home/bladeray/anaconda3/envs/tf/lib/python3.6/site-packages/sklearn/linear_model/stochastic_gradient.py:128: FutureWarning: max_iter and tol parameters have been added in <class 'sklearn.linear_model.stochastic_gradient.SGDClassifier'> in 0.19. If both are left unset, they default to max_iter=5 and tol=None. If tol is not None, max_iter defaults to max_iter=1000. From 0.21, default max_iter will be 1000, and default tol will be 1e-3.\n",
      "  \"and default tol will be 1e-3.\" % type(self), FutureWarning)\n",
      "/home/bladeray/anaconda3/envs/tf/lib/python3.6/site-packages/sklearn/linear_model/stochastic_gradient.py:128: FutureWarning: max_iter and tol parameters have been added in <class 'sklearn.linear_model.stochastic_gradient.SGDClassifier'> in 0.19. If both are left unset, they default to max_iter=5 and tol=None. If tol is not None, max_iter defaults to max_iter=1000. From 0.21, default max_iter will be 1000, and default tol will be 1e-3.\n",
      "  \"and default tol will be 1e-3.\" % type(self), FutureWarning)\n",
      "/home/bladeray/anaconda3/envs/tf/lib/python3.6/site-packages/sklearn/linear_model/stochastic_gradient.py:128: FutureWarning: max_iter and tol parameters have been added in <class 'sklearn.linear_model.stochastic_gradient.SGDClassifier'> in 0.19. If both are left unset, they default to max_iter=5 and tol=None. If tol is not None, max_iter defaults to max_iter=1000. From 0.21, default max_iter will be 1000, and default tol will be 1e-3.\n",
      "  \"and default tol will be 1e-3.\" % type(self), FutureWarning)\n"
     ]
    }
   ],
   "source": [
    "y_5_scores = cross_val_predict(sgd_clf, X_train, y_train_5, cv=3,\n",
    "                             method=\"decision_function\")\n",
    "y_5_scores.shape#有些版本sklearn  method=\"decision_function\"会返回2列，第一列为全0，所以需要y_scores = y_scores[:, 1]\n",
    "from sklearn.metrics import precision_recall_curve\n",
    "precisions, recalls, thresholds = precision_recall_curve(y_train_5, y_5_scores)"
   ]
  },
  {
   "cell_type": "code",
   "execution_count": null,
   "metadata": {
    "collapsed": true
   },
   "outputs": [],
   "source": [
    "最后，您可以使用Matplotlib绘制阈值和函数的精确性（图3-4）："
   ]
  },
  {
   "cell_type": "code",
   "execution_count": 13,
   "metadata": {},
   "outputs": [
    {
     "data": {
      "image/png": "[encoded data removed]",
      "text/plain": [
       "<Figure size 576x288 with 1 Axes>"
      ]
     },
     "metadata": {},
     "output_type": "display_data"
    }
   ],
   "source": [
    "import matplotlib.pyplot as plt\n",
    "def plot_precision_recall_vs_threshold(precisions, recalls, thresholds):\n",
    "    plt.plot(thresholds, precisions[:-1], \"b--\", label=\"Precision\", linewidth=2)\n",
    "    plt.plot(thresholds, recalls[:-1], \"g-\", label=\"Recall\", linewidth=2)\n",
    "    plt.xlabel(\"Threshold\", fontsize=16)\n",
    "    plt.legend(loc=\"upper left\", fontsize=16)\n",
    "    plt.ylim([0, 1])\n",
    "\n",
    "plt.figure(figsize=(8, 4))\n",
    "plot_precision_recall_vs_threshold(precisions, recalls, thresholds)\n",
    "plt.xlim([-700000, 700000])\n",
    "plt.show()"
   ]
  },
  {
   "cell_type": "markdown",
   "metadata": {},
   "source": [
    "你可能会想，为什么精确曲线比图3-4中的记忆曲线还要崎岖。原因是当你提高阈值时，精度有时会下降（尽管一般情况下它会上升）。要理解为什么，回头看图3-3，注意当你从中心阈值开始时，发生什么事情，然后向右移动一个数字：精度从4/5（80%）下降到3/4（75%）。另一方面，当阈值增加时，召回只能下降，这就解释了为什么曲线看起来平滑。\n",
    "\n",
    "现在，您可以简单地选择阈值，为您提供最佳的精度/召回权衡为您的任务。选择一个良好的精度/召回权衡的另一种方法是将精度直接映射到召回，如图3-5所示。\n",
    "![](./images/3-5.png)\n",
    "你可以看到，80%的召回率确实开始大幅下降。您可能希望在该下降之前选择一个精确/召回权衡，例如，大约60%的召回。当然，选择取决于你的项目。\n",
    "\n",
    "假设你决定瞄准90%的精度。你查找第一个情节（放大一点），发现你需要使用一个大约70000的阈值。为了进行预测（在现在的训练集上），而不是调用分类器的predict()\n",
    "方法，可以只运行这个代码："
   ]
  },
  {
   "cell_type": "code",
   "execution_count": null,
   "metadata": {
    "collapsed": true
   },
   "outputs": [],
   "source": [
    "y_train_pred_90 = (y_scores > 70000)\n",
    "#Let’s check these predictions’ precision and recall:\n",
    ">>> precision_score(y_train_5, y_train_pred_90)\n",
    "0.86592051164915484\n",
    ">>> recall_score(y_train_5, y_train_pred_90)\n",
    "0.69931746910164172"
   ]
  },
  {
   "cell_type": "markdown",
   "metadata": {},
   "source": [
    "很好，你有一个90%精度分级机（或足够接近）！正如你所看到的，创建一个几乎任何你想要的精度的分类器是相当容易的：只要设置一个足够高的阈值，你就完成了。嗯，没那么快。如果它的召回率太低，那么高精度分类器就不是很有用了！"
   ]
  },
  {
   "cell_type": "markdown",
   "metadata": {},
   "source": [
    "## roc曲线\n",
    " receiver operating characteristic（ROC）曲线是与二分类器一起使用的另一种常用工具。它与精度/召回曲线非常相似，但不是绘制精度与召回率，ROC曲线绘制了 true positive rate真阳率（召回的另一个名称）除以 false positive rate假阳率。FPR是不正确分类为正的负实例的比率。它等于1减去真阴率，这是被正确分类为负的负实例的比率。TNR也被称为 specificity特异性。因此，ROC曲线图灵敏度（召回）与1- specificity特异性。\n",
    "\n",
    "为了绘制ROC曲线，首先需要使用ROCKURVER（）函数计算各种阈值的TPR和FPR："
   ]
  },
  {
   "cell_type": "code",
   "execution_count": 14,
   "metadata": {},
   "outputs": [
    {
     "data": {
      "image/png": "[encoded data removed]",
      "text/plain": [
       "<Figure size 576x432 with 1 Axes>"
      ]
     },
     "metadata": {},
     "output_type": "display_data"
    }
   ],
   "source": [
    "from sklearn.metrics import roc_curve\n",
    "fpr, tpr, thresholds = roc_curve(y_train_5, y_5_scores)\n",
    "def plot_roc_curve(fpr, tpr, label=None):\n",
    "    plt.plot(fpr, tpr, linewidth=2, label=label)\n",
    "    plt.plot([0, 1], [0, 1], 'k--')\n",
    "    plt.axis([0, 1, 0, 1])\n",
    "    plt.xlabel('False Positive Rate', fontsize=16)\n",
    "    plt.ylabel('True Positive Rate', fontsize=16)\n",
    "\n",
    "plt.figure(figsize=(8, 6))\n",
    "plot_roc_curve(fpr, tpr)\n",
    "plt.show()"
   ]
  },
  {
   "cell_type": "markdown",
   "metadata": {},
   "source": [
    "##### roc的auc"
   ]
  },
  {
   "cell_type": "code",
   "execution_count": 15,
   "metadata": {},
   "outputs": [
    {
     "data": {
      "text/plain": [
       "0.956443519695573"
      ]
     },
     "execution_count": 15,
     "metadata": {},
     "output_type": "execute_result"
    }
   ],
   "source": [
    "from sklearn.metrics import roc_auc_score\n",
    "roc_auc_score(y_train_5, y_5_scores)"
   ]
  },
  {
   "cell_type": "code",
   "execution_count": 16,
   "metadata": {
    "collapsed": true
   },
   "outputs": [],
   "source": [
    "from sklearn.ensemble import RandomForestClassifier\n",
    "ran_for_5_clf = RandomForestClassifier(random_state = 42)\n",
    "y_probas_forest = cross_val_predict(ran_for_5_clf, X_train, y_train_5, cv=3,\n",
    "                                    method=\"predict_proba\")\n",
    "y_scores_forest = y_probas_forest[:, 1] # score = proba of positive class\n",
    "fpr_forest, tpr_forest, thresholds_forest = roc_curve(y_train_5, y_scores_forest)"
   ]
  },
  {
   "cell_type": "code",
   "execution_count": 17,
   "metadata": {},
   "outputs": [
    {
     "data": {
      "image/png": "[encoded data removed]",
      "text/plain": [
       "<Figure size 576x432 with 1 Axes>"
      ]
     },
     "metadata": {},
     "output_type": "display_data"
    }
   ],
   "source": [
    "plt.figure(figsize=(8, 6))\n",
    "plt.plot(fpr, tpr, \"b:\", linewidth=2, label=\"SGD\")\n",
    "plot_roc_curve(fpr_forest, tpr_forest, \"Random Forest\")\n",
    "plt.legend(loc=\"lower right\", fontsize=16)\n",
    "plt.show()"
   ]
  },
  {
   "cell_type": "markdown",
   "metadata": {},
   "source": [
    "再次有一个折衷：召回率（TPR）越高，分类器产生的假阳性（FPR）越多。虚线表示纯随机分类器的ROC曲线；一个好的分类器尽可能远离该行（向左上角）。\n",
    "\n",
    "比较分类器的一种方法是测量曲线下面积（AUC）。一个完美的分类器将具有等于1的ROC AUC，而纯随机分类器将具有等于0.5的ROC AUC。 Scikit-Learn提供了一个计算ROC AUC的函数：\n",
    "from sklearn.metrics import roc_auc_score\n",
    "roc_auc_score(y_train_5, y_scores)\n",
    "0.96244965559671547\n",
    "\n",
    "由于ROC曲线与精度/召回（或PR）曲线非常相似，您可能想知道如何决定使用哪一个。作为一个经验法则，你应该喜欢PR曲线当正类是罕见的，或当你更多地关心假阳性比假阴性，否则用ROC曲线。例如，查看前面的ROC曲线（和ROC AUC分数），您可能会认为分类器确实很好。但这主要是因为与阴性（非5）相比，很少有阳性（5）。相反，PR曲线清楚地表明分类器有改进的空间（曲线可以更接近右上角）。\n",
    "\n",
    "让我们训练一个随机森林分类器RandomForestClassifier，并将其ROC曲线和ROC AUC分数与SGDClassifier进行比较。首先，你需要为训练集中的每个实例获得分数。但由于它的运作方式（见第7章），RandomForestClassifier类没有一个decision_function()方法。相反，它有一个predict_proba()方法。 Scikit-Learn分类器通常有一个或另一个。predict_proba()方法返回一个包含每个实例行和每个类的列的数组，每个包含给定实例属于给定类的概率（例如，70%可能性的图像表示5）：\n",
    "\n",
    "from sklearn.ensemble import RandomForestClassifier\n",
    "forest_clf = RandomForestClassifier(random_state=42)\n",
    "y_probas_forest = cross_val_predict(forest_clf, X_train, y_train_5, cv=3,method=\"predict_proba\")\n",
    "\n",
    "\n",
    "但要绘制ROC曲线，你需要的是分数，而不是概率。一个简单的解决方案是使用正类的概率作为分数：\n",
    "y_scores_forest = y_probas_forest[:, 1]　#score = proba of positive class\n",
    "fpr_forest, tpr_forest, thresholds_forest = roc_curve(y_train_5,y_scores_forest)\n",
    "\n",
    "现在你已经准备好绘制ROC曲线了。绘制第一个ROC曲线也是很有用的，看看它们是如何比较的（图3-7）：\n",
    "\n",
    "plt.plot(fpr, tpr, \"b:\", label=\"SGD\")\n",
    "plot_roc_curve(fpr_forest, tpr_forest, \"Random Forest\")\n",
    "plt.legend(loc=\"lower right\")\n",
    "plt.show()\n",
    "正如在图3-7中所看到的，随机森林分类器的ROC曲线看起来比SGD分类器更好：它更靠近左上角。因此，其ROC AUC评分也明显好：\n",
    "roc_auc_score(y_train_5, y_scores_forest)\n",
    "0.99312433660038291\n",
    "尝试测量精度和回忆分数：你应该找到98.5%的精确度和82.8%的召回。还不错！\n",
    "\n",
    "希望你现在知道如何训练二元分类器，为你的任务选择合适的度量，使用交叉验证来评估你的分类器，选择符合你的需求的精度/召回权衡，并使用ROC曲线和ROC AUC分数比较各种模型。现在让我们尝试检测不仅仅是5。"
   ]
  },
  {
   "cell_type": "markdown",
   "metadata": {},
   "source": [
    "##### 交叉验证，precision recall"
   ]
  },
  {
   "cell_type": "code",
   "execution_count": 18,
   "metadata": {},
   "outputs": [
    {
     "data": {
      "text/plain": [
       "0.9839679358717435"
      ]
     },
     "execution_count": 18,
     "metadata": {},
     "output_type": "execute_result"
    }
   ],
   "source": [
    "y_train_pred_forest = cross_val_predict(ran_for_clf, X_train, y_train_5, cv=3)\n",
    "precision_score(y_train_5, y_train_pred_forest)"
   ]
  },
  {
   "cell_type": "markdown",
   "metadata": {},
   "source": [
    "## 多分类\n",
    "### 数据预处理\n",
    "### 划分测试训练数据\n",
    "### 训练模型"
   ]
  },
  {
   "cell_type": "code",
   "execution_count": 19,
   "metadata": {},
   "outputs": [
    {
     "data": {
      "text/plain": [
       "array([[5810,    2,   17,    9,    9,   16,   20,    4,   31,    5],\n",
       "       [   1, 6634,   30,   22,   18,    6,    6,   11,   10,    4],\n",
       "       [  41,   30, 5627,   58,   40,   19,   30,   50,   57,    6],\n",
       "       [  30,   22,  130, 5654,    3,  104,   16,   58,   81,   33],\n",
       "       [  23,   18,   31,    9, 5528,   11,   29,   13,   26,  154],\n",
       "       [  54,   14,   24,  189,   39, 4956,   55,   11,   53,   26],\n",
       "       [  52,   22,   26,    4,   26,   67, 5692,    0,   27,    2],\n",
       "       [  10,   33,   79,   27,   67,    9,    2, 5929,   21,   88],\n",
       "       [  33,   55,  103,  124,   64,  110,   44,   14, 5227,   77],\n",
       "       [  36,   20,   30,   87,  170,   49,    7,   89,   64, 5397]])"
      ]
     },
     "execution_count": 19,
     "metadata": {},
     "output_type": "execute_result"
    }
   ],
   "source": [
    "#ran_for_clf = RandomForestClassifier(random_state = 42)\n",
    "#ran_for_clf.fit(X_train, y_train) #多分类\n",
    "y_train_pre_ran = cross_val_predict(ran_for_clf, X_train, y_train, cv=3)\n",
    "conf_mx = confusion_matrix(y_train, y_train_pre_ran)\n",
    "conf_mx"
   ]
  },
  {
   "cell_type": "code",
   "execution_count": null,
   "metadata": {
    "collapsed": true
   },
   "outputs": [],
   "source": [
    "plt.matshow(conf_mx, cmap=plt.cm.gray)\n",
    "plt.show()\n",
    "row_sums = conf_mx.sum(axis=1, keepdims=True)\n",
    "norm_conf_mx = conf_mx / row_sums.astype(np.float64)\n",
    "np.fill_diagonal(norm_conf_mx, 0)\n",
    "plt.matshow(norm_conf_mx, cmap=plt.cm.gray)\n",
    "plt.show()"
   ]
  },
  {
   "cell_type": "markdown",
   "metadata": {},
   "source": [
    "## 多标签分类（Multilabel Classification）"
   ]
  },
  {
   "cell_type": "code",
   "execution_count": 22,
   "metadata": {},
   "outputs": [
    {
     "data": {
      "text/plain": [
       "array([[False, False],\n",
       "       [False, False],\n",
       "       [False, False],\n",
       "       ...,\n",
       "       [ True,  True],\n",
       "       [ True,  True],\n",
       "       [ True,  True]])"
      ]
     },
     "execution_count": 22,
     "metadata": {},
     "output_type": "execute_result"
    }
   ],
   "source": [
    "from sklearn.neighbors import KNeighborsClassifier\n",
    "y_train_large = (y_train >= 6)\n",
    "y_train_odd = (y_train % 2 == 1)\n",
    "y_multilabel = np.c_[y_train_large, y_train_odd]\n",
    "knn_clf = KNeighborsClassifier()\n",
    "knn_clf.fit(X_train, y_multilabel)\n",
    "knn_clf.predict(X_test)"
   ]
  },
  {
   "cell_type": "markdown",
   "metadata": {},
   "source": [
    "## 多输出分类（Multioutput Classification）"
   ]
  },
  {
   "cell_type": "code",
   "execution_count": 26,
   "metadata": {},
   "outputs": [
    {
     "data": {
      "text/plain": [
       "<matplotlib.image.AxesImage at 0x7f68095de2b0>"
      ]
     },
     "execution_count": 26,
     "metadata": {},
     "output_type": "execute_result"
    },
    {
     "data": {
      "image/png": "[encoded data removed]",
      "text/plain": [
       "<Figure size 432x288 with 2 Axes>"
      ]
     },
     "metadata": {},
     "output_type": "display_data"
    }
   ],
   "source": [
    "#去噪声\n",
    "import numpy.random  as rnd\n",
    "noise_train = rnd.randint(0, 100, (len(X_train), 784))\n",
    "noise_test = rnd.randint(0, 100, (len(X_test), 784))\n",
    "X_train_noise = X_train + noise_train\n",
    "X_test_nosise = X_test + noise_test\n",
    "y_train_noise = X_train\n",
    "y_test_noise = X_test\n",
    "%matplotlib inline\n",
    "import matplotlib.pyplot as plt\n",
    "plt.subplot(1, 2, 1)\n",
    "plt.imshow(X_train_noise[20000].reshape(28, 28), cmap = plt.cm.gray)\n",
    "plt.subplot(1, 2, 2)\n",
    "plt.imshow(y_train_noise[20000].reshape(28, 28), cmap = plt.cm.gray)\n"
   ]
  },
  {
   "cell_type": "markdown",
   "metadata": {},
   "source": [
    "### 训练多输出分类 -- 去噪声"
   ]
  },
  {
   "cell_type": "code",
   "execution_count": 28,
   "metadata": {},
   "outputs": [
    {
     "data": {
      "text/plain": [
       "<matplotlib.image.AxesImage at 0x7f68096aac50>"
      ]
     },
     "execution_count": 28,
     "metadata": {},
     "output_type": "execute_result"
    },
    {
     "data": {
      "image/png": "[encoded data removed]",
      "text/plain": [
       "<Figure size 432x288 with 1 Axes>"
      ]
     },
     "metadata": {},
     "output_type": "display_data"
    }
   ],
   "source": [
    "from sklearn.neighbors import KNeighborsClassifier\n",
    "knn_clf = KNeighborsClassifier()\n",
    "knn_clf.fit(X_train_noise, y_train_noise)\n",
    "pre_digit = knn_clf.predict([X_train_noise[20000]])\n",
    "plt.imshow(pre_digit.reshape(28, 28), cmap = plt.cm.gray)"
   ]
  },
  {
   "cell_type": "code",
   "execution_count": 29,
   "metadata": {},
   "outputs": [
    {
     "data": {
      "text/plain": [
       "array([0.94276145, 0.94144707, 0.93849077])"
      ]
     },
     "execution_count": 29,
     "metadata": {},
     "output_type": "execute_result"
    }
   ],
   "source": [
    "from sklearn.model_selection import cross_val_score\n",
    "cross_val_score(ran_for_clf, X_train, y_train, cv = 3, scoring = \"accuracy\")"
   ]
  },
  {
   "cell_type": "code",
   "execution_count": 31,
   "metadata": {},
   "outputs": [
    {
     "data": {
      "text/plain": [
       "GridSearchCV(cv=3, error_score='raise',\n",
       "       estimator=RandomForestClassifier(bootstrap=True, class_weight=None, criterion='gini',\n",
       "            max_depth=None, max_features='auto', max_leaf_nodes=None,\n",
       "            min_impurity_decrease=0.0, min_impurity_split=None,\n",
       "            min_samples_leaf=1, min_samples_split=2,\n",
       "            min_weight_fraction_leaf=0.0, n_estimators=10, n_jobs=1,\n",
       "            oob_score=False, random_state=42, verbose=0, warm_start=False),\n",
       "       fit_params=None, iid=True, n_jobs=1,\n",
       "       param_grid=[{'n_estimators': [1, 10, 100, 200, 500, 1000], 'max_features': ['auto', 'sqrt']}],\n",
       "       pre_dispatch='2*n_jobs', refit=True, return_train_score='warn',\n",
       "       scoring='accuracy', verbose=0)"
      ]
     },
     "execution_count": 31,
     "metadata": {},
     "output_type": "execute_result"
    }
   ],
   "source": [
    "from sklearn.model_selection import GridSearchCV\n",
    "param_grid = [\n",
    "    {'n_estimators': [1, 10, 100, 200, 500, 1000], 'max_features': [\"auto\", \"sqrt\"]}\n",
    "]\n",
    "grid_search = GridSearchCV(ran_for_clf, param_grid, cv = 3, scoring = \"accuracy\")\n",
    "grid_search.fit(X_train, y_train)"
   ]
  },
  {
   "cell_type": "code",
   "execution_count": null,
   "metadata": {
    "collapsed": true
   },
   "outputs": [],
   "source": []
  }
 ],
 "metadata": {
  "kernelspec": {
   "display_name": "Python 3",
   "language": "python",
   "name": "python3"
  },
  "language_info": {
   "codemirror_mode": {
    "name": "ipython",
    "version": 3
   },
   "file_extension": ".py",
   "mimetype": "text/x-python",
   "name": "python",
   "nbconvert_exporter": "python",
   "pygments_lexer": "ipython3",
   "version": "3.6.2"
  }
 },
 "nbformat": 4,
 "nbformat_minor": 2
}
